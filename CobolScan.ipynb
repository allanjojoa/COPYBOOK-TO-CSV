{
 "cells": [
  {
   "cell_type": "code",
   "execution_count": null,
   "metadata": {},
   "outputs": [
    {
     "evalue": "Error: Kernel not created with the name python37664bit705040e3a1344474a63676192df99c15, display_name Python 3.7.6 64-bit. Output is Installed kernelspec python37664bit705040e3a1344474a63676192df99c15 in C:\\Users\\allan\\AppData\\Roaming\\jupyter\\kernels\\python37664bit705040e3a1344474a63676192df99c15\r\n",
     "output_type": "error"
    }
   ],
   "source": [
    "with open('cobol.copy','r') as file:\n",
    "    file_data = file.readlines()\n",
    "    \n",
    "\n",
    "file_code = [x[6:-9] for x in file_data]\n",
    "print(file_code)\n",
    "new_line = []\n",
    "comma = ''\n",
    "\n",
    "for line in line_x:\n",
    "    new_line.append(line)\n",
    "    x = line.find('05')\n",
    "    if x != -1:\n",
    "        x_str = [' ']*x\n",
    "        x_str.append('05  FILLER PIC X(01) VALUE \\',\\'.')\n",
    "        new_line.append(comma.join(x_str))\n",
    "        new_line.append(' ')\n",
    "    x = line.find('10')\n",
    "    if x != -1:\n",
    "        x_str = [' ']*x\n",
    "        x_str.append('10  FILLER PIC X(01) VALUE \\',\\'.')\n",
    "        new_line.append(comma.join(x_str))\n",
    "        new_line.append(' ')\n",
    "        x = line.find('15')\n",
    "    if x != -1:\n",
    "        x_str = [' ']*x\n",
    "        x_str.append('10  FILLER PIC X(01) VALUE \\',\\'.')\n",
    "        new_line.append(comma.join(x_str))\n",
    "        new_line.append(' ')\n",
    "\n",
    "for line in new_line:\n",
    "    print(line)"
   ]
  },
  {
   "cell_type": "code",
   "execution_count": null,
   "metadata": {},
   "outputs": [],
   "source": []
  }
 ],
 "metadata": {
  "kernelspec": {
   "display_name": "Python 3",
   "language": "python",
   "name": "python3"
  },
  "language_info": {
   "codemirror_mode": {
    "name": "ipython",
    "version": 3
   },
   "file_extension": ".py",
   "mimetype": "text/x-python",
   "name": "python",
   "nbconvert_exporter": "python",
   "pygments_lexer": "ipython3",
   "version": "3.6.5"
  }
 },
 "nbformat": 4,
 "nbformat_minor": 2
}