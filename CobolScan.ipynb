{
 "cells": [
  {
   "cell_type": "code",
   "execution_count": 235,
   "metadata": {},
   "outputs": [],
   "source": [
    "with open('cobol.copy','r') as file:\n",
    "    file_data = file.readlines()    "
   ]
  },
  {
   "cell_type": "code",
   "execution_count": 236,
   "metadata": {},
   "outputs": [],
   "source": [
    "file_code = [x[6:-11] for x in file_data]\n",
    "new_code = []\n",
    "csv_header_code = []\n",
    "comma = ''\n",
    "new_line = '\\n'"
   ]
  },
  {
   "cell_type": "code",
   "execution_count": 237,
   "metadata": {},
   "outputs": [],
   "source": [
    "def get_code_file():    \n",
    "    file_code = [x[6:-11] for x in file_data]"
   ]
  },
  {
   "cell_type": "code",
   "execution_count": 238,
   "metadata": {},
   "outputs": [],
   "source": [
    "def get_new_code(level_number):\n",
    "    space_index = line.find(level_number)\n",
    "    find_pic = line.find('PIC')\n",
    "    if space_index != -1 and find_pic != -1:\n",
    "        #Header File\n",
    "        var_name = line.split(' ')[space_index+2].replace('.','')\n",
    "        code_str = line\n",
    "        csv_header_code[-1] = code_str[:find_pic]+'PIC X('+str(len(var_name))+') VALUE'\n",
    "        csv_header_code.append((' '*find_pic)+'\\''+var_name+'\\'.')\n",
    "        #CSV File\n",
    "        str_spaces = [' ']*space_index\n",
    "        str_spaces.append(level_number+'  FILLER PIC X(01) VALUE \\',\\'.')\n",
    "        new_code.append(comma.join(str_spaces))"
   ]
  },
  {
   "cell_type": "code",
   "execution_count": 239,
   "metadata": {},
   "outputs": [],
   "source": [
    "for line in file_code:\n",
    "    csv_header_code.append(line)\n",
    "    new_code.append(line)\n",
    "    get_new_code('05')\n",
    "    get_new_code('10')\n",
    "    get_new_code('15')"
   ]
  },
  {
   "cell_type": "code",
   "execution_count": 240,
   "metadata": {},
   "outputs": [],
   "source": [
    "code_str = new_line.join(new_code)\n",
    "with open('cobol-csv.copy','w') as file:\n",
    "    file.writelines(code_str)\n"
   ]
  },
  {
   "cell_type": "code",
   "execution_count": 241,
   "metadata": {},
   "outputs": [],
   "source": [
    "csv_str  = new_line.join(csv_header_code)\n",
    "with open('cobol-csv-header.copy','w') as file:\n",
    "    file.writelines(csv_str)"
   ]
  }
 ],
 "metadata": {
  "kernelspec": {
   "display_name": "Python 3",
   "language": "python",
   "name": "python3"
  },
  "language_info": {
   "codemirror_mode": {
    "name": "ipython",
    "version": 3
   },
   "file_extension": ".py",
   "mimetype": "text/x-python",
   "name": "python",
   "nbconvert_exporter": "python",
   "pygments_lexer": "ipython3",
   "version": "3.6.5"
  }
 },
 "nbformat": 4,
 "nbformat_minor": 2
}
