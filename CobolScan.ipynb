{
 "cells": [
  {
   "cell_type": "code",
   "execution_count": null,
   "metadata": {},
   "outputs": [
    {
     "evalue": "Error: Kernel not created with the name python37664bit705040e3a1344474a63676192df99c15, display_name Python 3.7.6 64-bit. Output is Installed kernelspec python37664bit705040e3a1344474a63676192df99c15 in C:\\Users\\allan\\AppData\\Roaming\\jupyter\\kernels\\python37664bit705040e3a1344474a63676192df99c15\r\n",
     "output_type": "error"
    }
   ],
   "source": [
    "with open('cobol.copy','r') as file:\n",
    "    file_data = file.readlines()    \n",
    "\n",
    "file_code = [x[6:-11] for x in file_data]\n",
    "new_code = []\n",
    "comma = ''\n",
    "new_line = '\\n'\n",
    "\n",
    "for line in file_code:\n",
    "    new_code.append(line)\n",
    "    space_index = line.find('05')\n",
    "    if space_index != -1:\n",
    "        str_spaces = [' ']*space_index\n",
    "        str_spaces.append('05  FILLER PIC X(01) VALUE \\',\\'.')\n",
    "        new_code.append(comma.join(str_spaces))\n",
    "        new_code.append(' ')\n",
    "    space_index = line.find('10')\n",
    "    if space_index != -1:\n",
    "        str_spaces = [' ']*space_index\n",
    "        str_spaces.append('10  FILLER PIC X(01) VALUE \\',\\'.')\n",
    "        new_code.append(comma.join(str_spaces))\n",
    "        new_code.append(' ')\n",
    "    space_index = line.find('15')\n",
    "    if space_index != -1:\n",
    "        str_spaces = [' ']*space_index\n",
    "        str_spaces.append('15  FILLER PIC X(01) VALUE \\',\\'.')\n",
    "        new_code.append(comma.join(str_spaces))\n",
    "        new_code.append(' ')\n",
    "\n",
    "for line in new_code:\n",
    "    print(line)"
   ]
  },
  {
   "cell_type": "code",
   "execution_count": null,
   "metadata": {},
   "outputs": [],
   "source": []
  }
 ],
 "metadata": {
  "kernelspec": {
   "display_name": "Python 3",
   "language": "python",
   "name": "python3"
  },
  "language_info": {
   "codemirror_mode": {
    "name": "ipython",
    "version": 3
   },
   "file_extension": ".py",
   "mimetype": "text/x-python",
   "name": "python",
   "nbconvert_exporter": "python",
   "pygments_lexer": "ipython3",
   "version": "3.6.5"
  }
 },
 "nbformat": 4,
 "nbformat_minor": 2
}